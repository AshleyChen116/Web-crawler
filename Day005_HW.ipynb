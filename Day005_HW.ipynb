{
 "cells": [
  {
   "cell_type": "markdown",
   "metadata": {},
   "source": [
    "# API 資料串接 - 以 Dcard API 實作範例\n",
    "\n",
    "* 了解 Dcard API 使用方式與回傳內容\n",
    "* 撰寫程式存取 API 且解析 JSON 格式資料\n"
   ]
  },
  {
   "cell_type": "markdown",
   "metadata": {},
   "source": [
    "## 作業目標\n",
    "\n",
    "* 請利用 API: https://www.dcard.tw/_api/forums/pet/posts?popular=true 回答下列問題：\n",
    "\n",
    "1. 這個 API 一次會回傳幾筆資料？每一筆資料包含哪些欄位？\n",
    "2. 取出每一筆資料的「標題」、「貼文時間」、「留言人數」、「按讚人數」\n",
    "3. 計算熱門/非熱門文章的「平均留言人數」與「平均按讚人數」"
   ]
  },
  {
   "cell_type": "code",
   "execution_count": 26,
   "metadata": {},
   "outputs": [],
   "source": [
    "import requests\n",
    "r = requests.get('https://www.dcard.tw/_api/forums/pet/posts?popular=true')\n",
    "response = r.text"
   ]
  },
  {
   "cell_type": "markdown",
   "metadata": {},
   "source": [
    "# 這個 API 一次會回傳幾筆資料？每一筆資料包含哪些欄位？¶"
   ]
  },
  {
   "cell_type": "code",
   "execution_count": 28,
   "metadata": {},
   "outputs": [],
   "source": [
    "import json\n",
    "\n",
    "data = json.loads(response)"
   ]
  },
  {
   "cell_type": "code",
   "execution_count": 29,
   "metadata": {},
   "outputs": [
    {
     "name": "stdout",
     "output_type": "stream",
     "text": [
      "30\n",
      "30\n"
     ]
    }
   ],
   "source": [
    "no = 0\n",
    "for d in data:\n",
    "    if d['title']:\n",
    "        #print(d['title'])\n",
    "        no += 1\n",
    "\n",
    "print(no)\n",
    "print(len(data))"
   ]
  },
  {
   "cell_type": "code",
   "execution_count": 30,
   "metadata": {},
   "outputs": [
    {
     "name": "stdout",
     "output_type": "stream",
     "text": [
      "id\n",
      "title\n",
      "excerpt\n",
      "anonymousSchool\n",
      "anonymousDepartment\n",
      "pinned\n",
      "forumId\n",
      "replyId\n",
      "createdAt\n",
      "updatedAt\n",
      "commentCount\n",
      "likeCount\n",
      "withNickname\n",
      "tags\n",
      "topics\n",
      "meta\n",
      "forumName\n",
      "forumAlias\n",
      "nsfw\n",
      "gender\n",
      "school\n",
      "department\n",
      "replyTitle\n",
      "mediaMeta\n",
      "reactions\n",
      "hidden\n",
      "customStyle\n",
      "isSuspiciousAccount\n",
      "layout\n",
      "withImages\n",
      "withVideos\n",
      "media\n",
      "reportReasonText\n",
      "postAvatar\n"
     ]
    }
   ],
   "source": [
    "# 所有欄位\n",
    "for d in data[0]:\n",
    "    print(d)"
   ]
  },
  {
   "cell_type": "code",
   "execution_count": 31,
   "metadata": {},
   "outputs": [
    {
     "name": "stdout",
     "output_type": "stream",
     "text": [
      "不想回家\n",
      "我家貓咪看到奴才回家的反應\n",
      "抽了一夜的菸還是沒想明白……\n",
      "貓貓疊疊樂\n",
      "自己營造案發現場的貓🤦‍♀️\n",
      "原意是心疼卻被無知害死的可憐兔兔\n",
      "#天竺鼠 兒子生日快樂🎈\n",
      "與貓出門的日常\n",
      "鳥類求解（他到底是什麼鳥！\n",
      "小奶貓怎麼辦？\n",
      "兔子也變網美？？！\n",
      "107年動保法和寵物繁殖法規\n",
      "尋貓啟示（新竹）\n",
      "#圖超多 我是比熊不是貴賓啦齁\n",
      "胖貓貓的日常 #圖\n",
      "斷氣的小黑貓\n",
      "請問你們的狗狗也會這樣一直舔人嗎？\n",
      "轉發！三隻奶貓求收養\n",
      "M̆̈ĕ̈ŏ̈w̆̈~̆̈~̆̈\n",
      "無法站穩的貓 好心疼😔\n",
      "天竺鼠幾歲可以吃水果呢？\n",
      "#分享 #小笨蛋成長史（下）\n",
      "［問卷］波姐需要大家的協助\n",
      "摺耳貓 謠言?\n",
      "關於小笨笨\n",
      "我來曬貓ㄉ\n",
      "想看大家的倉鼠🐹\n",
      "差評！維東尼動物醫院\n",
      "半月鬥魚的鰭\n",
      "狗狗不願意擦藥，該怎麼做？\n"
     ]
    }
   ],
   "source": [
    "for d in data:\n",
    "    print(d['title'])"
   ]
  },
  {
   "cell_type": "code",
   "execution_count": 32,
   "metadata": {},
   "outputs": [
    {
     "name": "stdout",
     "output_type": "stream",
     "text": [
      "2020-08-05T04:54:17.285Z\n",
      "2020-08-05T08:38:25.984Z\n",
      "2020-08-05T13:42:05.742Z\n",
      "2020-08-05T05:16:58.433Z\n",
      "2020-08-05T02:06:37.560Z\n",
      "2020-08-04T17:33:39.033Z\n",
      "2020-08-05T02:59:57.044Z\n",
      "2020-08-05T07:46:42.917Z\n",
      "2020-08-05T05:07:58.543Z\n",
      "2020-08-05T10:15:58.203Z\n",
      "2020-08-05T14:11:18.704Z\n",
      "2020-08-05T10:11:35.727Z\n",
      "2020-08-05T15:45:52.319Z\n",
      "2020-08-05T15:43:01.992Z\n",
      "2020-08-05T12:49:16.917Z\n",
      "2020-08-05T08:58:50.349Z\n",
      "2020-08-05T00:14:02.133Z\n",
      "2020-08-05T20:17:01.598Z\n",
      "2020-08-05T17:25:13.086Z\n",
      "2020-08-05T10:39:06.281Z\n",
      "2020-08-05T06:48:23.278Z\n",
      "2020-08-05T05:28:53.711Z\n",
      "2020-08-05T04:05:15.791Z\n",
      "2020-08-06T04:45:34.871Z\n",
      "2020-08-06T04:17:48.691Z\n",
      "2020-08-05T18:40:40.535Z\n",
      "2020-08-05T18:04:04.443Z\n",
      "2020-08-05T17:19:06.352Z\n",
      "2020-08-05T16:01:59.295Z\n",
      "2020-08-05T14:45:57.572Z\n"
     ]
    }
   ],
   "source": [
    "for d in data:\n",
    "    print(d['createdAt'])"
   ]
  },
  {
   "cell_type": "code",
   "execution_count": 35,
   "metadata": {},
   "outputs": [
    {
     "name": "stdout",
     "output_type": "stream",
     "text": [
      "1374\n",
      "485\n",
      "176\n",
      "126\n",
      "118\n",
      "41\n",
      "38\n",
      "17\n",
      "16\n",
      "15\n",
      "11\n",
      "10\n",
      "8\n",
      "8\n",
      "7\n",
      "6\n",
      "5\n",
      "2\n",
      "2\n",
      "2\n",
      "2\n",
      "2\n",
      "2\n",
      "1\n",
      "1\n",
      "1\n",
      "1\n",
      "1\n",
      "1\n",
      "1\n"
     ]
    }
   ],
   "source": [
    "# 按讚人數\n",
    "for d in data:\n",
    "    print(d['likeCount'])"
   ]
  },
  {
   "cell_type": "code",
   "execution_count": 36,
   "metadata": {},
   "outputs": [
    {
     "name": "stdout",
     "output_type": "stream",
     "text": [
      "28\n",
      "11\n",
      "15\n",
      "3\n",
      "10\n",
      "2\n",
      "4\n",
      "2\n",
      "6\n",
      "2\n",
      "1\n",
      "4\n",
      "1\n",
      "3\n",
      "0\n",
      "1\n",
      "5\n",
      "0\n",
      "0\n",
      "1\n",
      "4\n",
      "0\n",
      "0\n",
      "0\n",
      "0\n",
      "1\n",
      "2\n",
      "2\n",
      "1\n",
      "1\n"
     ]
    }
   ],
   "source": [
    "# 留言人數\n",
    "for d in data:\n",
    "    print(d['commentCount'])"
   ]
  },
  {
   "cell_type": "code",
   "execution_count": 43,
   "metadata": {},
   "outputs": [],
   "source": [
    "pop = json.loads(requests.get('https://www.dcard.tw/_api/forums/pet/posts?popular=true').text)\n",
    "unpop = json.loads(requests.get('https://www.dcard.tw/_api/forums/pet/posts?popular=false').text)"
   ]
  },
  {
   "cell_type": "markdown",
   "metadata": {},
   "source": [
    "# 計算熱門文章的「平均留言人數」與「平均按讚人數」¶"
   ]
  },
  {
   "cell_type": "code",
   "execution_count": 44,
   "metadata": {},
   "outputs": [],
   "source": [
    "p_no = len(pop)\n",
    "p_like = 0\n",
    "p_cmt = 0\n",
    "for d in pop:\n",
    "    #print(d['likeCount'], d['commentCount'])\n",
    "    p_like = p_like + d['likeCount']\n",
    "    p_cmt = p_cmt + d['commentCount']\n",
    "\n",
    "p_l_avg = p_like/p_no\n",
    "p_c_avg = p_cmt/p_no"
   ]
  },
  {
   "cell_type": "markdown",
   "metadata": {},
   "source": [
    "# 計算非熱門文章的「平均留言人數」與「平均按讚人數」¶"
   ]
  },
  {
   "cell_type": "code",
   "execution_count": 47,
   "metadata": {},
   "outputs": [],
   "source": [
    "up_no = len(unpop)\n",
    "up_like = 0\n",
    "up_cmt = 0\n",
    "for d in unpop:\n",
    "    #print(d['likeCount'], d['commentCount'])\n",
    "    up_like = up_like + d['likeCount']\n",
    "    up_cmt = up_cmt + d['commentCount']\n",
    "\n",
    "u_l_avg = up_like/up_no\n",
    "u_c_avg = up_cmt/up_no"
   ]
  },
  {
   "cell_type": "code",
   "execution_count": 48,
   "metadata": {},
   "outputs": [
    {
     "name": "stdout",
     "output_type": "stream",
     "text": [
      "Popular: like_avg= 83.83333333333333 , comment_avg= 3.7\n",
      "Normal: like_avg= 26.566666666666666 , commnet_avg= 2.2333333333333334\n"
     ]
    }
   ],
   "source": [
    "print(\"Popular: like_avg=\", p_l_avg, \", comment_avg=\", p_c_avg)\n",
    "print(\"Normal: like_avg=\", u_l_avg, \", commnet_avg=\", u_c_avg)"
   ]
  },
  {
   "cell_type": "code",
   "execution_count": null,
   "metadata": {},
   "outputs": [],
   "source": []
  }
 ],
 "metadata": {
  "kernelspec": {
   "display_name": "Python 3",
   "language": "python",
   "name": "python3"
  },
  "language_info": {
   "codemirror_mode": {
    "name": "ipython",
    "version": 3
   },
   "file_extension": ".py",
   "mimetype": "text/x-python",
   "name": "python",
   "nbconvert_exporter": "python",
   "pygments_lexer": "ipython3",
   "version": "3.7.6"
  }
 },
 "nbformat": 4,
 "nbformat_minor": 2
}
